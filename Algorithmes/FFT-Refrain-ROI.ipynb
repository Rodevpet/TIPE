{
 "cells": [
  {
   "metadata": {},
   "cell_type": "markdown",
   "source": "# Directive de \"Pré-processing\"",
   "id": "1a61b040841e3718"
  },
  {
   "metadata": {
    "ExecuteTime": {
     "end_time": "2025-01-06T14:36:25.142696Z",
     "start_time": "2025-01-06T14:36:20.779494Z"
    }
   },
   "cell_type": "code",
   "source": [
    "Version_Lyam_Neal = 'Roi_Version_Lyam_Neal_Échantillon.mp3'\n",
    "Data_Lyam_Neal, samplerate_Lyam_Neal = librosa.load(Version_Lyam_Neal, sr=None)\n",
    "length_Lyam_Neal = Data_Lyam_Neal.shape[0] / samplerate_Lyam_Neal\n",
    "time_Lyam_Neal = np.linspace(0., length_Lyam_Neal, Data_Lyam_Neal.shape[0])\n",
    "Data_Lyam_Neal.shape[0]"
   ],
   "id": "d6f7cbc975e320aa",
   "outputs": [
    {
     "data": {
      "text/plain": [
       "1890212"
      ]
     },
     "execution_count": 2,
     "metadata": {},
     "output_type": "execute_result"
    }
   ],
   "execution_count": 2
  },
  {
   "metadata": {
    "ExecuteTime": {
     "end_time": "2025-01-06T14:36:25.309658Z",
     "start_time": "2025-01-06T14:36:25.259688Z"
    }
   },
   "cell_type": "code",
   "source": [
    "Version_Bilal_Hassani = 'Roi_Version_Bilal_Hassani_Échantillon.mp3'\n",
    "Data_Bilal_Hassani, samplerate_Bilal_Hassani = librosa.load(Version_Bilal_Hassani, sr=None)\n",
    "length_Bilal_Hassani = Data_Bilal_Hassani.shape[0] / samplerate_Bilal_Hassani\n",
    "time_Bilal_Hassani = np.linspace(0., length_Bilal_Hassani, Data_Bilal_Hassani.shape[0])\n",
    "Data_Bilal_Hassani.shape[0]"
   ],
   "id": "c49cee38f14cc0ce",
   "outputs": [
    {
     "data": {
      "text/plain": [
       "1890212"
      ]
     },
     "execution_count": 3,
     "metadata": {},
     "output_type": "execute_result"
    }
   ],
   "execution_count": 3
  },
  {
   "metadata": {},
   "cell_type": "markdown",
   "source": "### Software to get data into a file",
   "id": "c4785944208bbff3"
  },
  {
   "metadata": {
    "ExecuteTime": {
     "end_time": "2025-01-06T14:36:25.389295Z",
     "start_time": "2025-01-06T14:36:25.386700Z"
    }
   },
   "cell_type": "code",
   "source": [
    "def recup(nomfichier, colonnes, sep = \";\"):\n",
    "    \"\"\"\n",
    "    nomfichier : fichier texte .txt ou .csv\n",
    "    colonnes : type int, nbre de colonnes à recuperer\n",
    "    sep : type str, separateur de colonnes, \";\" par defaut\n",
    "    RETOUR : type array, tableau de donnees.\n",
    "    \"\"\"\n",
    "    frequences = []#initialisaition de la liste de donnees\n",
    "    decibel = []\n",
    "    with open(nomfichier, \"r\") as contenu:\n",
    "        for ligne in contenu:\n",
    "            try : #pour eviter les entêtes\n",
    "                ligne = ligne.split(sep) #separe les valeurs\n",
    "                frequences.append(float(ligne[0]))\n",
    "                decibel.append(float(ligne[1]))#remplissage et conversion en flottant\n",
    "            except: ValueError\n",
    "    return (frequences,np.array(decibel)) # conversion en tableau"
   ],
   "id": "588ac9b30f830a7",
   "outputs": [],
   "execution_count": 4
  },
  {
   "metadata": {},
   "cell_type": "markdown",
   "source": "# Algorithme de Cooley-Tukey",
   "id": "72d77261ee73629f"
  },
  {
   "metadata": {},
   "cell_type": "markdown",
   "source": "## Algorithme de Moyenne-Glissante",
   "id": "6e58288377e2146b"
  },
  {
   "metadata": {
    "ExecuteTime": {
     "end_time": "2025-01-06T14:36:25.466495Z",
     "start_time": "2025-01-06T14:36:25.463593Z"
    }
   },
   "cell_type": "code",
   "source": [
    "def moyenne_glissante_prof(Ltemps,Lsignal,nmoy):\n",
    "    Lres=[]\n",
    "    Ltempsres=[]\n",
    "    for i in range (0,len(Lsignal)-nmoy):\n",
    "        res=sum(Lsignal[i:i+nmoy])/nmoy\n",
    "        Lres.append(res)\n",
    "        Ltempsres.append(sum(Ltemps[i:i+nmoy])/nmoy)\n",
    "    return Ltempsres,Lres"
   ],
   "id": "c071b1ce2dcb4a0c",
   "outputs": [],
   "execution_count": 5
  },
  {
   "metadata": {},
   "cell_type": "markdown",
   "source": "## Algorithme de Cooley-Tukey",
   "id": "402a516c24a3dae"
  },
  {
   "metadata": {
    "ExecuteTime": {
     "end_time": "2025-01-06T14:36:25.487631Z",
     "start_time": "2025-01-06T14:36:25.484606Z"
    }
   },
   "cell_type": "code",
   "source": [
    "def ditfft2(x, N, s):\n",
    "    # Cas de base : si la longueur de la séquence est 1, retourne l'élément lui-même\n",
    "    if N == 1:\n",
    "        return [x[0]]\n",
    "    # Calcul de la FFT des sous-séquences en utilisant le saut `s`\n",
    "    even_part = ditfft2(x, N // 2, s * 2)  # Partie paire avec un saut de `2s`\n",
    "    odd_part = ditfft2(x[s:], N // 2, s * 2)  # Partie impaire avec un décalage et saut de `2s`\n",
    "    # Initialiser une liste pour stocker le résultat final\n",
    "    result = [0] * N\n",
    "    for k in range(N // 2):\n",
    "        # Calcul du facteur twiddle\n",
    "        t = np.exp(-2j * np.pi * k / N) * odd_part[k]\n",
    "\n",
    "        # Combinaison des parties paires et impaires pour la FFT finale\n",
    "        result[k] = even_part[k] + t\n",
    "        result[k + N // 2] = even_part[k] - t\n",
    "    return result"
   ],
   "id": "dbe2823d3b217094",
   "outputs": [],
   "execution_count": 6
  },
  {
   "metadata": {},
   "cell_type": "markdown",
   "source": "",
   "id": "8c08e84650dc4b2c"
  },
  {
   "metadata": {},
   "cell_type": "markdown",
   "source": "# Similarité de Spectre",
   "id": "9418543718ba9d2"
  },
  {
   "metadata": {},
   "cell_type": "markdown",
   "source": "Ici sont analysé deux séquences d'une même musique qui est ROI de Bilal Hassani, on analyse le refrain.",
   "id": "4a506aa64bf11965"
  },
  {
   "metadata": {},
   "cell_type": "markdown",
   "source": "### Utilisation du bitwise pour l'approche d'une puissance de deux",
   "id": "d104f96fe8314c8d"
  },
  {
   "metadata": {
    "ExecuteTime": {
     "end_time": "2025-01-06T14:36:25.515025Z",
     "start_time": "2025-01-06T14:36:25.512992Z"
    }
   },
   "cell_type": "code",
   "source": [
    "def puissance_deux_inferieure_rapide(n):\n",
    "    if n < 1:\n",
    "        raise ValueError(\"La valeur doit être supérieure ou égale à 1.\")\n",
    "    return 1 << (n.bit_length() - 1)"
   ],
   "id": "d70eeb72ac8c043d",
   "outputs": [],
   "execution_count": 7
  },
  {
   "metadata": {},
   "cell_type": "markdown",
   "source": "### FFT par Cooley-Tukey de la version Lyam_Neal",
   "id": "54d3c1b99b10ef6"
  },
  {
   "metadata": {},
   "cell_type": "markdown",
   "source": "#### Séléction des données",
   "id": "73c690c8ca454acc"
  },
  {
   "metadata": {
    "ExecuteTime": {
     "end_time": "2025-01-06T14:36:25.526555Z",
     "start_time": "2025-01-06T14:36:25.523913Z"
    }
   },
   "cell_type": "code",
   "source": [
    "# Plage de donnée\n",
    "MIN = 0\n",
    "N = puissance_deux_inferieure_rapide(min(Data_Lyam_Neal.shape[0],Data_Bilal_Hassani.shape[0]))\n",
    "\n",
    "#Fenêtre gaussienne\n",
    "#window = get_window((\"gaussian\",2.5), N)\n",
    "#window = get_window(\"hann\", N)\n",
    "window = np.ones(N)\n"
   ],
   "id": "35fc878ab5f33d57",
   "outputs": [],
   "execution_count": 8
  },
  {
   "metadata": {
    "ExecuteTime": {
     "end_time": "2025-01-06T14:36:32.842218Z",
     "start_time": "2025-01-06T14:36:25.540116Z"
    }
   },
   "cell_type": "code",
   "source": [
    "Restricted_Data_Lyam_Neal = (Data_Lyam_Neal[MIN:MIN+N] * window)# Garder uniquement les premiers N échantillons\n",
    "\n",
    "FFT_Lyam_Neal = ditfft2(Restricted_Data_Lyam_Neal,N,1)\n",
    "FFT_Lyam_Neal = np.abs(FFT_Lyam_Neal)[:N // 2]\n",
    "int_max = max(FFT_Lyam_Neal)\n",
    "FFT_Lyam_Neal = 20*np.log10(FFT_Lyam_Neal/int_max+1e-12)\n",
    "Frequencies_Lyam_Neal = np.fft.fftfreq(N, d=1/samplerate_Lyam_Neal)# Génère les fréquences\n",
    "\n",
    "# Prendre le module (amplitude) de la FFT et garder uniquement la moitié positive des fréquences\n",
    "Frequencies_Lyam_Neal = Frequencies_Lyam_Neal[:N // 2]"
   ],
   "id": "8d96c2f9ca16139",
   "outputs": [],
   "execution_count": 9
  },
  {
   "metadata": {},
   "cell_type": "markdown",
   "source": "### FFT par Cooley-Tukey de la version Bilal_Hassani",
   "id": "42e4d243f42af162"
  },
  {
   "metadata": {
    "tags": [],
    "ExecuteTime": {
     "end_time": "2025-01-06T14:36:40.044795Z",
     "start_time": "2025-01-06T14:36:32.858170Z"
    }
   },
   "cell_type": "code",
   "source": [
    "#Fenêtre gaussienne\n",
    "Restricted_Data_Bilal_Hassani = Data_Bilal_Hassani[MIN:(MIN+N)] * window\n",
    "\n",
    "FFT_Bilal_Hassani = ditfft2(Restricted_Data_Bilal_Hassani,N,1)\n",
    "FFT_Bilal_Hassani = np.abs(FFT_Bilal_Hassani)[:N // 2]\n",
    "int_max = max(FFT_Bilal_Hassani)\n",
    "FFT_Bilal_Hassani = 20*np.log10(FFT_Bilal_Hassani/int_max+1e-12)\n",
    "Frequencies_Bilal_Hassani = np.fft.fftfreq(N, d=1/samplerate_Bilal_Hassani)# Génère les fréquences\n",
    "\n",
    "# Prendre le module (amplitude) de la FFT et garder uniquement la moitié positive des fréquences\n",
    "Frequencies_Bilal_Hassani = Frequencies_Bilal_Hassani[:N // 2]"
   ],
   "id": "22686c58c4370c48",
   "outputs": [],
   "execution_count": 10
  },
  {
   "metadata": {},
   "cell_type": "markdown",
   "source": "## Affichage des données",
   "id": "804faa13a5cf88a2"
  },
  {
   "metadata": {
    "ExecuteTime": {
     "end_time": "2025-01-06T14:36:41.532965Z",
     "start_time": "2025-01-06T14:36:40.065102Z"
    }
   },
   "cell_type": "code",
   "source": [
    "Graph = ChemPlot(\"Spectre\",\"Fréquences (Hz)\",\"Amplitudes (Hz)\",\"Variétés\")\n",
    "Graph.add_plot([Frequencies_Lyam_Neal,FFT_Lyam_Neal],\"\",\"Version Lyam_Neal\",color=c1)\n",
    "Graph.add_plot([Frequencies_Bilal_Hassani,FFT_Bilal_Hassani],\"\",\"Version Bilal_Hassani\",color=c4)\n",
    "Graph.show_browser()"
   ],
   "id": "51b9ac2dff8920a5",
   "outputs": [],
   "execution_count": 11
  },
  {
   "metadata": {},
   "cell_type": "markdown",
   "source": "# Version Audacity",
   "id": "8c8637d5c489e785"
  },
  {
   "metadata": {
    "ExecuteTime": {
     "end_time": "2025-01-13T14:13:07.768005Z",
     "start_time": "2025-01-13T14:13:07.180980Z"
    }
   },
   "cell_type": "code",
   "source": [
    "Graphe = ChemPlot(\"Spectre\",\"Fréquences (Hz)\",\"Amplitudes (Hz)\",\"Variétés\")\n",
    "Graphe.add_plot(\"spectre_Roi_Version_BillalH.txt\",\";\",\"Version Effeil65\",color=c1)\n",
    "Graphe.add_plot(\"spectre_Roi_Version_LyamN.txt\",\";\",\"Version Guetta\",color=c4)\n",
    "Graphe.show_browser()"
   ],
   "id": "40aedaa20421730c",
   "outputs": [],
   "execution_count": 3
  },
  {
   "metadata": {},
   "cell_type": "code",
   "outputs": [],
   "execution_count": null,
   "source": "",
   "id": "56b9de5795b9a6c1"
  }
 ],
 "metadata": {
  "kernelspec": {
   "display_name": "Python 3 (ipykernel)",
   "language": "python",
   "name": "python3"
  },
  "language_info": {
   "codemirror_mode": {
    "name": "ipython",
    "version": 2
   },
   "file_extension": ".py",
   "mimetype": "text/x-python",
   "name": "python",
   "nbconvert_exporter": "python",
   "pygments_lexer": "ipython2",
   "version": "2.7.6"
  }
 },
 "nbformat": 4,
 "nbformat_minor": 5
}
