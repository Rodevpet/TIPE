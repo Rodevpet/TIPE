{
 "cells": [
  {
   "metadata": {},
   "cell_type": "markdown",
   "source": "# Mesures grâce à l'application Phybox",
   "id": "17dc7ea5e93ed0e2"
  },
  {
   "metadata": {
    "collapsed": true,
    "ExecuteTime": {
     "end_time": "2024-12-22T20:58:16.643118Z",
     "start_time": "2024-12-22T20:58:16.390802Z"
    }
   },
   "cell_type": "code",
   "source": [
    "from ChemPlot import *\n",
    "import numpy as np\n",
    "from scipy.signal import get_window\n",
    "c1=\"rgb(160,218,57)\"\n",
    "c2=\"rgb(74,194,109)\"\n",
    "c3=\"rgb(47,161,135)\"\n",
    "c4=\"rgb(39,127,143)\"\n",
    "c5=\"rgb(54,92,141)\"\n",
    "c6=\"rgb(70,49,127)\"\n",
    "c7=\"rgb(68,7,84)\"\n",
    "\n",
    "def recup(nomfichier, colonnes, sep = \";\"):\n",
    "    \"\"\"\n",
    "    nomfichier : fichier texte .txt ou .csv\n",
    "    colonnes : type int, nbre de colonnes à recuperer\n",
    "    sep : type str, separateur de colonnes, \";\" par defaut\n",
    "    RETOUR : type array, tableau de donnees.\n",
    "    \"\"\"\n",
    "    frequences = []#initialisaition de la liste de donnees\n",
    "    decibel = []\n",
    "    with open(nomfichier, \"r\") as contenu:\n",
    "        for ligne in contenu:\n",
    "            try : #pour eviter les entêtes\n",
    "                ligne = ligne.split(sep) #separe les valeurs\n",
    "                frequences.append(float(ligne[0]))\n",
    "                decibel.append(float(ligne[1]))#remplissage et conversion en flottant\n",
    "            except: ValueError\n",
    "    return (frequences,np.array(decibel)) # conversion en tableau"
   ],
   "id": "initial_id",
   "outputs": [],
   "execution_count": 25
  },
  {
   "metadata": {},
   "cell_type": "markdown",
   "source": "## Fréquence du pic d'amplitude",
   "id": "3bfe32f1e7a01273"
  },
  {
   "metadata": {
    "ExecuteTime": {
     "end_time": "2024-12-22T21:10:12.234761Z",
     "start_time": "2024-12-22T21:10:11.945086Z"
    }
   },
   "cell_type": "code",
   "source": [
    "graph = ChemPlot(\"Pique de fréquence\",\"Fréquence\",\"Fréquence du pic (Hz)\",\"\")\n",
    "(SO,PO) = recup(\"Mesures_Phybox/Mesures_Iphone_Roi_Version_Lyam_Neal/Peak History.csv\",2)\n",
    "(SG,PG) = recup(\"Mesures_Phybox/Mesures_Iphone_Roi_Version_Bilal_Hassani_(Amplitude Réduite)/Peak History.csv\",2)\n",
    "graph.add_plot([SO,PO],\"\",\"Lyam Neal\",color=c1)\n",
    "graph.add_plot([SG,PG],\"\",\"Bilal Hassani\",color=c5)\n",
    "\n",
    "graph.show_browser()"
   ],
   "id": "1acea4ebaf502a9e",
   "outputs": [],
   "execution_count": 32
  },
  {
   "metadata": {},
   "cell_type": "markdown",
   "source": "## Spectre de Fourrier",
   "id": "8665dfef35c1ac39"
  },
  {
   "metadata": {
    "ExecuteTime": {
     "end_time": "2024-12-22T21:31:22.716101Z",
     "start_time": "2024-12-22T21:31:22.421193Z"
    }
   },
   "cell_type": "code",
   "source": [
    "graph = ChemPlot(\"Spectre de fourier\",\"Fréquences\",\"Amplitudes\",\"\")\n",
    "(SO,PO) = recup(\"Mesures_Phybox/Mesures_Iphone_Roi_Version_Lyam_Neal/Raw data.csv\",2)\n",
    "(SG,PG) = recup(\"Mesures_Phybox/Mesures_Iphone_Roi_Version_Bilal_Hassani/Raw data.csv\",2)\n",
    "\n",
    "#Fenêtre gaussienne\n",
    "window_PO = get_window((\"gaussian\",10), len(PO))\n",
    "windowed_PO = PO[:len(PO)] * window_PO\n",
    "window_PG = get_window((\"gaussian\",10), len(PG))\n",
    "windowed_PG = PG[:len(PG)] * window_PG\n",
    "\n",
    "\n",
    "graph.add_plot([SO,window_PO],\"\",\"Lyam Neal\",color=c1)\n",
    "graph.add_plot([SG,window_PG],\"\",\"Bilal Hassani\",color=c5)\n",
    "\n",
    "graph.show_browser()"
   ],
   "id": "8e2dd7248df2193d",
   "outputs": [],
   "execution_count": 47
  },
  {
   "metadata": {},
   "cell_type": "code",
   "outputs": [],
   "execution_count": null,
   "source": "",
   "id": "c243ec49936b05f1"
  }
 ],
 "metadata": {
  "kernelspec": {
   "display_name": "Python 3",
   "language": "python",
   "name": "python3"
  },
  "language_info": {
   "codemirror_mode": {
    "name": "ipython",
    "version": 2
   },
   "file_extension": ".py",
   "mimetype": "text/x-python",
   "name": "python",
   "nbconvert_exporter": "python",
   "pygments_lexer": "ipython2",
   "version": "2.7.6"
  }
 },
 "nbformat": 4,
 "nbformat_minor": 5
}
