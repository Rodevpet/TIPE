{
 "cells": [
  {
   "metadata": {},
   "cell_type": "markdown",
   "source": [
    "# Représentation des polynômes\n",
    "Les polynômes sont représentés sous deux formes :\n",
    "- Représentation par coefficient : un polynôme de degré $n$ y est représenté via ses $n+1$ coefficients.\n",
    "- Représentation par points-valeurs : un polynôme $P$ de degré $n$ y est représenté par (au moins) $n + 1$\n",
    "couples $(x, P (x))$, ce qui détermine de manière unique P d’après le théorème de Lagrange.\n",
    "\n",
    "## Théorème de Lagrange\n",
    "...\n",
    "\n",
    "*On considère par la suite qu’une opération arithmétique entre deux complexes se fait en temps constant,\n",
    "de même que déterminer une racine n-ème primitive de l’unité.*"
   ],
   "id": "7a34987ece275160"
  },
  {
   "metadata": {},
   "cell_type": "markdown",
   "source": [
    "### 1ère approche : Algorithme naïf\n",
    "\n",
    "On représente ici le polynôme sous la forme d'un tableau ou chaque élément est sons coefficient et son indice le degré.\n",
    "\n",
    "On pose $\\displaystyle P=\\sum^n_{k=0}\\alpha_k X^k$ et $\\displaystyle Q=\\sum^p_{k=0}\\beta_k X^k$ deux polynômes.\n",
    "\n",
    "On a $\\deg(P)=n$ et $\\deg(Q)=p$\n",
    "\n",
    "$((\\alpha_0,...,\\alpha_n),(\\beta_0,...,\\beta_p))\\in \\mathbb{K}^n\\times \\mathbb{K}^p$ et $\\mathbb{K}=\\mathbb{R}$ ou $\\mathbb{C}$.\n",
    "\n",
    "#### Mutliplication :\n",
    "$$\\begin{align}\n",
    "PQ&=\\left(\\sum^n_{k=0}\\alpha_k X^k\\right)\\left(\\sum^p_{k=0}\\beta_k X^k\\right)\\\\\n",
    "\\end{align}$$"
   ],
   "id": "f957178c55e8df2b"
  },
  {
   "metadata": {
    "jupyter": {
     "is_executing": true
    }
   },
   "cell_type": "code",
   "source": "from sage.all import *",
   "id": "42a845ccc1567aa9",
   "outputs": [],
   "execution_count": null
  },
  {
   "cell_type": "code",
   "id": "initial_id",
   "metadata": {
    "collapsed": true,
    "jupyter": {
     "is_executing": true
    }
   },
   "source": [
    "def prod_Poly (P,Q):\n",
    "    PQ = []\n",
    "    for i in range(0,len(P)):\n",
    "        sum = 0\n",
    "        for j in range(0,len(Q)):\n",
    "            sum += Q[j]\n",
    "        PQ.append(P[i]*sum)\n",
    "    return PQ\n",
    "\n",
    "print(prod_Poly([5,5],[8,8]))"
   ],
   "outputs": [],
   "execution_count": null
  },
  {
   "metadata": {},
   "cell_type": "markdown",
   "source": "",
   "id": "21c6be9a645f136"
  }
 ],
 "metadata": {
  "kernelspec": {
   "display_name": "SageMath 10.1",
   "language": "sage",
   "name": "sagemath-10.1"
  },
  "language_info": {
   "codemirror_mode": {
    "name": "ipython",
    "version": 2
   },
   "file_extension": ".py",
   "mimetype": "text/x-python",
   "name": "python",
   "nbconvert_exporter": "python",
   "pygments_lexer": "ipython2",
   "version": "2.7.6"
  }
 },
 "nbformat": 4,
 "nbformat_minor": 5
}
